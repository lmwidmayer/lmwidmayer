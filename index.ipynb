{
  "cells": [
    {
      "cell_type": "raw",
      "metadata": {},
      "source": [
        "---\n",
        "title: \"Home\"\n",
        "author: \"Lisa\"\n",
        "---"
      ],
      "id": "3354e4d0"
    },
    {
      "cell_type": "markdown",
      "metadata": {},
      "source": [
        "## Hello world!\n",
        "\n",
        "\n",
        "\n",
        "```{json}\n",
        "{\n",
        "  \"name\": \"Lisa\"\n",
        "}\n",
        "```"
      ],
      "id": "268c955d"
    }
  ],
  "metadata": {
    "kernelspec": {
      "name": "python3",
      "language": "python",
      "display_name": "Python 3 (ipykernel)"
    }
  },
  "nbformat": 4,
  "nbformat_minor": 5
}