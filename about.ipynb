{
  "cells": [
    {
      "cell_type": "raw",
      "metadata": {},
      "source": [
        "---\n",
        "title: \"About\"\n",
        "about: \"solana\"\n",
        "image: https://github.com/lmwidmayer.png?\n",
        "links:\n",
        "  - icon: github\n",
        "    text: Github\n",
        "    href: https://github.com/lmwidmayer\n",
        "---"
      ],
      "id": "9bb27749"
    },
    {
      "cell_type": "markdown",
      "metadata": {},
      "source": [
        "## Tech &amp; tools\n",
        "\n",
        "Languages and tools that I am working with.  \n",
        "\n",
        "<div align=\"center\">\n",
        "  <img src=\"https://cdn.jsdelivr.net/gh/devicons/devicon/icons/r/r-original.svg\" height=\"40\" width=\"52\" alt=\"r logo\" title=\"R\"/>\n",
        "  <img src=\"https://cdn.jsdelivr.net/gh/devicons/devicon/icons/python/python-original.svg\" height=\"40\" width=\"52\" alt=\"python logo\" title=\"Python\"/>\n",
        "  <img src=\"https://cdn.jsdelivr.net/gh/devicons/devicon/icons/matlab/matlab-original.svg\" height=\"40\" width=\"52\" alt=\"matlab logo\" title=\"Matlab\"/>\n",
        "  <img src=\"https://cdn.jsdelivr.net/gh/devicons/devicon/icons/javascript/javascript-original.svg\" height=\"40\" width=\"52\" alt=\"javascript logo\" title=\"Javascript\"/>\n",
        "  <img src=\"https://cdn.jsdelivr.net/gh/devicons/devicon/icons/latex/latex-original.svg\" height=\"40\" width=\"52\" alt=\"latex logo\" title=\"LaTeX\"/>\n",
        "  <img src=\"https://cdn.jsdelivr.net/gh/devicons/devicon/icons/git/git-original.svg\" height=\"40\" width=\"52\" alt=\"git logo\" title=\"Git\"/>\n",
        "</div>\n",
        "\n",
        "\n",
        "\n",
        "```{json \"callingcard\"}\n",
        "{\n",
        "  \"name\": \"Lisa\",\n",
        "  \"profession\": [\"PhD student\", \"Researcher\"],\n",
        "  \"degree\": [\"B.Sc. Psychology\", \"M.Sc. Psychology\"],\n",
        "  \"interest\": [\"Cognition\", \"Perception\", \"Sensomotorics\", \"Programming\"]\n",
        "}\n",
        "```"
      ],
      "id": "562f7979"
    }
  ],
  "metadata": {
    "kernelspec": {
      "name": "python3",
      "language": "python",
      "display_name": "Python 3 (ipykernel)"
    }
  },
  "nbformat": 4,
  "nbformat_minor": 5
}